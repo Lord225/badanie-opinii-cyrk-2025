{
 "cells": [
  {
   "cell_type": "code",
   "execution_count": 63,
   "metadata": {},
   "outputs": [
    {
     "name": "stdout",
     "output_type": "stream",
     "text": [
      "{'review_id': 757997, 'review_art': 'Rewelacja. Świetnie spędzony czas.', 'nick': 'Adam', 'datestamp': '2025-03-31 11:39:21', 'stars_fun': 5, 'artist_stars_fun': '4.7', 'hall_city': 'Białystok', 'hall_full_name': 'Namiot Cyrkowy', 'event_id': 517015, 'event_date': '2025-03-30 13:00:00', 'rate': 0, 'rate_count': 0, 'reviews_count': 6618, 'artist_id': 2110, 'artist_name': 'Cyrk Korona - Nowy Program 2025', 'v2_artist_seo_url': '/cyrk/Cyrk-Korona', 'thumbnail': '/file/get/w/260/id/233417', 'reply': None, 'reply_added': None}\n"
     ]
    }
   ],
   "source": [
    "# open json files\n",
    "# *korona-opinie.json\n",
    "# *zalewski-opinie.json\n",
    "# *na-wodzie-opinie.json\n",
    "# *opinie-melody.json\n",
    "\n",
    "# dane pobrane z serwisu biletyna.pl dnia 31.03.2025 przy użyciu endpointów API\n",
    "# Sortowanie: 'newest'\n",
    "# Ilość: 100\n",
    "# Strona: 1\n",
    "# https://biletyna.pl/ajax/reviews?artist_id=2110&max_review_id=0&homepage=0&ipp=100&page=1&order=newest\n",
    "# Opinie liczone są od roku 2025\n",
    "\n",
    "files = [\n",
    "    \"korona-opinie.json\",\n",
    "    \"zalewski-opinie.json\",\n",
    "    \"na-wodzie-opinie.json\",\n",
    "    \"opinie-melody.json\"\n",
    "]\n",
    "\n",
    "\n",
    "import json\n",
    "import pandas as pd\n",
    "\n",
    "opinions_json = []\n",
    "for file in files:\n",
    "    with open(file, \"r\", encoding=\"utf-8\") as f:\n",
    "        opinions_json.append(json.load(f)['reviews'])\n",
    "\n",
    "\n",
    "print(opinions_json[0][0]) # stars_fun"
   ]
  },
  {
   "cell_type": "code",
   "execution_count": 64,
   "metadata": {},
   "outputs": [],
   "source": [
    "# Dane pobrane z serwisu cyrkarena.pl dnia 31.03.2025 przy użyciu endpointu API\n",
    "# https://cyrkarena.pl/loyalty/comments?amount=100\n",
    "arena_opinie = json.load(open(\"arena-opinie.json\", \"r\", encoding=\"utf-8\"))"
   ]
  },
  {
   "cell_type": "code",
   "execution_count": 65,
   "metadata": {},
   "outputs": [
    {
     "data": {
      "text/plain": [
       "{'commentId': 320,\n",
       " 'comment': 'Wspaniała zabawa dla każdego, w każdym wieku ! Światła, muzyka, artyści i atmosfera nie do opisania ',\n",
       " 'commentTimeStamp': '2025-03-30',\n",
       " 'signature': 'Aga',\n",
       " 'seanceDate': '2025-03-30',\n",
       " 'seanceCity': 'Andrespol',\n",
       " 'stars': 5,\n",
       " 'votesUp': 0,\n",
       " 'votesDown': 0,\n",
       " 'featured': 'featured',\n",
       " 'group': None}"
      ]
     },
     "execution_count": 65,
     "metadata": {},
     "output_type": "execute_result"
    }
   ],
   "source": [
    "arena_opinie[0]"
   ]
  },
  {
   "cell_type": "code",
   "execution_count": 66,
   "metadata": {},
   "outputs": [
    {
     "name": "stdout",
     "output_type": "stream",
     "text": [
      "File: korona-opinie.json, Avg: 4.32, 5s: 72, 4s: 11, 3s: 3, 2s: 5\n",
      "5s %: 0.72\n",
      "4s %: 0.11\n",
      "3s %: 0.03\n",
      "2s %: 0.05\n",
      "File: zalewski-opinie.json, Avg: 4.87, 5s: 92, 4s: 6, 3s: 0, 2s: 1\n",
      "5s %: 0.92\n",
      "4s %: 0.06\n",
      "3s %: 0.00\n",
      "2s %: 0.01\n",
      "File: na-wodzie-opinie.json, Avg: 4.352941176470588, 5s: 33, 4s: 9, 3s: 4, 2s: 4\n",
      "5s %: 0.65\n",
      "4s %: 0.18\n",
      "3s %: 0.08\n",
      "2s %: 0.08\n",
      "File: opinie-melody.json, Avg: 4.59, 5s: 81, 4s: 6, 3s: 5, 2s: 7\n",
      "5s %: 0.81\n",
      "4s %: 0.06\n",
      "3s %: 0.05\n",
      "2s %: 0.07\n"
     ]
    }
   ],
   "source": [
    "# calculate avg rating for each file and amount of 5s and 4s\n",
    "# for each file\n",
    "import datetime\n",
    "START_DATE = \"2025-01-01\"  \n",
    "START_DATE = datetime.datetime.strptime(START_DATE, \"%Y-%m-%d\").date()\n",
    "# 2025-03-30 13:00:00\n",
    "for i, file in enumerate(files):\n",
    "    X = pd.Series([opinion['stars_fun'] for opinion in opinions_json[i] if datetime.datetime.strptime(opinion['event_date'], \"%Y-%m-%d %H:%M:%S\").date() > START_DATE])\n",
    "    _5 = X[X == 5].count()\n",
    "    _4 = X[X == 4].count()\n",
    "    _3 = X[X == 3].count()\n",
    "    _2 = X[X == 2].count()\n",
    "    avg = X.mean()\n",
    "    print(f\"File: {file}, Avg: {avg}, 5s: {_5}, 4s: {_4}, 3s: {_3}, 2s: {_2}\")\n",
    "    print(f\"5s %: {_5/len(X):.2f}\")\n",
    "    print(f\"4s %: {_4/len(X):.2f}\")\n",
    "    print(f\"3s %: {_3/len(X):.2f}\")\n",
    "    print(f\"2s %: {_2/len(X):.2f}\")"
   ]
  },
  {
   "cell_type": "code",
   "execution_count": 69,
   "metadata": {},
   "outputs": [
    {
     "name": "stdout",
     "output_type": "stream",
     "text": [
      "Arena avg:  4.938461538461539 5s:  61 4s:  4 3s: \n",
      "Arena 5s: 0.94\n",
      "Arena 4s: 0.06\n",
      "Arena 3s: 0.00\n",
      "Arena 2s: 0.00\n",
      "5s %: 0.94\n"
     ]
    }
   ],
   "source": [
    "# avg of arena\n",
    "X = pd.Series([opinion['stars'] for opinion in arena_opinie if datetime.datetime.strptime(opinion['seanceDate'], \"%Y-%m-%d\").date() > START_DATE])\n",
    "\n",
    "_5 = X[X == 5].count()\n",
    "_4 = X[X == 4].count()\n",
    "_3 = X[X == 3].count()\n",
    "_2 = X[X == 2].count()\n",
    "_1 = X[X == 1].count()\n",
    "\n",
    "avg = X.mean()\n",
    "print(\"Arena avg: \", avg, \"5s: \", _5, \"4s: \", _4, \"3s: \")\n",
    "print(f\"Arena 5s: {_5/len(X):.2f}\")\n",
    "print(f\"Arena 4s: {_4/len(X):.2f}\")\n",
    "print(f\"Arena 3s: {_3/len(X):.2f}\")\n",
    "print(f\"Arena 2s: {_2/len(X):.2f}\")\n",
    "print(f\"5s %: {_5 / len(X):.2f}\")"
   ]
  }
 ],
 "metadata": {
  "kernelspec": {
   "display_name": "base",
   "language": "python",
   "name": "python3"
  },
  "language_info": {
   "codemirror_mode": {
    "name": "ipython",
    "version": 3
   },
   "file_extension": ".py",
   "mimetype": "text/x-python",
   "name": "python",
   "nbconvert_exporter": "python",
   "pygments_lexer": "ipython3",
   "version": "3.12.3"
  }
 },
 "nbformat": 4,
 "nbformat_minor": 2
}
